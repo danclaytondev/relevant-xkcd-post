{
 "cells": [
  {
   "cell_type": "markdown",
   "id": "ec50c0a6-5107-4267-9f43-c6b5bb768b16",
   "metadata": {},
   "source": [
    "## Calculating Multimodel Embeddings for XKCD Using `nomic-embed`"
   ]
  },
  {
   "cell_type": "code",
   "execution_count": 4,
   "id": "dd32c920-bb89-444a-9b6e-31c295356b6c",
   "metadata": {},
   "outputs": [],
   "source": [
    "import os\n",
    "import urllib\n",
    "import time\n",
    "\n",
    "import duckdb\n",
    "import matplotlib.pyplot as plt\n",
    "import numpy as np\n",
    "import torch\n",
    "import torch.nn.functional as F\n",
    "from PIL import Image\n",
    "from transformers import AutoImageProcessor, AutoModel, AutoTokenizer\n",
    "import polars as pl"
   ]
  },
  {
   "cell_type": "markdown",
   "id": "87b8a185-4868-4f38-a8fe-5103db2cbbf8",
   "metadata": {},
   "source": [
    "Setup functions to calculate embeddings from images or text"
   ]
  },
  {
   "cell_type": "code",
   "execution_count": 5,
   "id": "2c1d104d-8afd-4feb-9068-3583cfaf82b6",
   "metadata": {},
   "outputs": [],
   "source": [
    "device = torch.device(\"cuda:0\" if torch.cuda.is_available() else \"cpu\")"
   ]
  },
  {
   "cell_type": "code",
   "execution_count": 6,
   "id": "9c08c5cd-d774-407c-b719-de7e3cd8ed55",
   "metadata": {},
   "outputs": [
    {
     "name": "stderr",
     "output_type": "stream",
     "text": [
      "Encountered exception while importing einops: No module named 'einops'\n"
     ]
    },
    {
     "ename": "ImportError",
     "evalue": "This modeling file requires the following packages that were not found in your environment: einops. Run `pip install einops`",
     "output_type": "error",
     "traceback": [
      "\u001b[0;31m---------------------------------------------------------------------------\u001b[0m",
      "\u001b[0;31mImportError\u001b[0m                               Traceback (most recent call last)",
      "Cell \u001b[0;32mIn[6], line 2\u001b[0m\n\u001b[1;32m      1\u001b[0m processor \u001b[38;5;241m=\u001b[39m AutoImageProcessor\u001b[38;5;241m.\u001b[39mfrom_pretrained(\u001b[38;5;124m\"\u001b[39m\u001b[38;5;124mnomic-ai/nomic-embed-vision-v1.5\u001b[39m\u001b[38;5;124m\"\u001b[39m)\n\u001b[0;32m----> 2\u001b[0m vision_model \u001b[38;5;241m=\u001b[39m \u001b[43mAutoModel\u001b[49m\u001b[38;5;241;43m.\u001b[39;49m\u001b[43mfrom_pretrained\u001b[49m\u001b[43m(\u001b[49m\n\u001b[1;32m      3\u001b[0m \u001b[43m    \u001b[49m\u001b[38;5;124;43m\"\u001b[39;49m\u001b[38;5;124;43mnomic-ai/nomic-embed-vision-v1.5\u001b[39;49m\u001b[38;5;124;43m\"\u001b[39;49m\u001b[43m,\u001b[49m\u001b[43m \u001b[49m\u001b[43mtrust_remote_code\u001b[49m\u001b[38;5;241;43m=\u001b[39;49m\u001b[38;5;28;43;01mTrue\u001b[39;49;00m\n\u001b[1;32m      4\u001b[0m \u001b[43m)\u001b[49m\u001b[38;5;241m.\u001b[39mto(device)\n\u001b[1;32m      7\u001b[0m \u001b[38;5;28;01mdef\u001b[39;00m \u001b[38;5;21mcalculate_image_embeddings\u001b[39m(image_paths: \u001b[38;5;28mlist\u001b[39m[\u001b[38;5;28mstr\u001b[39m]):\n\u001b[1;32m      8\u001b[0m     images \u001b[38;5;241m=\u001b[39m [Image\u001b[38;5;241m.\u001b[39mopen(path) \u001b[38;5;28;01mfor\u001b[39;00m path \u001b[38;5;129;01min\u001b[39;00m image_paths]\n",
      "File \u001b[0;32m~/Code/relevant-xkcd-post/.venv/lib/python3.12/site-packages/transformers/models/auto/auto_factory.py:553\u001b[0m, in \u001b[0;36m_BaseAutoModelClass.from_pretrained\u001b[0;34m(cls, pretrained_model_name_or_path, *model_args, **kwargs)\u001b[0m\n\u001b[1;32m    551\u001b[0m \u001b[38;5;28;01mif\u001b[39;00m has_remote_code \u001b[38;5;129;01mand\u001b[39;00m trust_remote_code:\n\u001b[1;32m    552\u001b[0m     class_ref \u001b[38;5;241m=\u001b[39m config\u001b[38;5;241m.\u001b[39mauto_map[\u001b[38;5;28mcls\u001b[39m\u001b[38;5;241m.\u001b[39m\u001b[38;5;18m__name__\u001b[39m]\n\u001b[0;32m--> 553\u001b[0m     model_class \u001b[38;5;241m=\u001b[39m \u001b[43mget_class_from_dynamic_module\u001b[49m\u001b[43m(\u001b[49m\n\u001b[1;32m    554\u001b[0m \u001b[43m        \u001b[49m\u001b[43mclass_ref\u001b[49m\u001b[43m,\u001b[49m\u001b[43m \u001b[49m\u001b[43mpretrained_model_name_or_path\u001b[49m\u001b[43m,\u001b[49m\u001b[43m \u001b[49m\u001b[43mcode_revision\u001b[49m\u001b[38;5;241;43m=\u001b[39;49m\u001b[43mcode_revision\u001b[49m\u001b[43m,\u001b[49m\u001b[43m \u001b[49m\u001b[38;5;241;43m*\u001b[39;49m\u001b[38;5;241;43m*\u001b[39;49m\u001b[43mhub_kwargs\u001b[49m\u001b[43m,\u001b[49m\u001b[43m \u001b[49m\u001b[38;5;241;43m*\u001b[39;49m\u001b[38;5;241;43m*\u001b[39;49m\u001b[43mkwargs\u001b[49m\n\u001b[1;32m    555\u001b[0m \u001b[43m    \u001b[49m\u001b[43m)\u001b[49m\n\u001b[1;32m    556\u001b[0m     _ \u001b[38;5;241m=\u001b[39m hub_kwargs\u001b[38;5;241m.\u001b[39mpop(\u001b[38;5;124m\"\u001b[39m\u001b[38;5;124mcode_revision\u001b[39m\u001b[38;5;124m\"\u001b[39m, \u001b[38;5;28;01mNone\u001b[39;00m)\n\u001b[1;32m    557\u001b[0m     \u001b[38;5;28mcls\u001b[39m\u001b[38;5;241m.\u001b[39mregister(config\u001b[38;5;241m.\u001b[39m\u001b[38;5;18m__class__\u001b[39m, model_class, exist_ok\u001b[38;5;241m=\u001b[39m\u001b[38;5;28;01mTrue\u001b[39;00m)\n",
      "File \u001b[0;32m~/Code/relevant-xkcd-post/.venv/lib/python3.12/site-packages/transformers/dynamic_module_utils.py:540\u001b[0m, in \u001b[0;36mget_class_from_dynamic_module\u001b[0;34m(class_reference, pretrained_model_name_or_path, cache_dir, force_download, resume_download, proxies, token, revision, local_files_only, repo_type, code_revision, **kwargs)\u001b[0m\n\u001b[1;32m    538\u001b[0m     code_revision \u001b[38;5;241m=\u001b[39m revision\n\u001b[1;32m    539\u001b[0m \u001b[38;5;66;03m# And lastly we get the class inside our newly created module\u001b[39;00m\n\u001b[0;32m--> 540\u001b[0m final_module \u001b[38;5;241m=\u001b[39m \u001b[43mget_cached_module_file\u001b[49m\u001b[43m(\u001b[49m\n\u001b[1;32m    541\u001b[0m \u001b[43m    \u001b[49m\u001b[43mrepo_id\u001b[49m\u001b[43m,\u001b[49m\n\u001b[1;32m    542\u001b[0m \u001b[43m    \u001b[49m\u001b[43mmodule_file\u001b[49m\u001b[43m \u001b[49m\u001b[38;5;241;43m+\u001b[39;49m\u001b[43m \u001b[49m\u001b[38;5;124;43m\"\u001b[39;49m\u001b[38;5;124;43m.py\u001b[39;49m\u001b[38;5;124;43m\"\u001b[39;49m\u001b[43m,\u001b[49m\n\u001b[1;32m    543\u001b[0m \u001b[43m    \u001b[49m\u001b[43mcache_dir\u001b[49m\u001b[38;5;241;43m=\u001b[39;49m\u001b[43mcache_dir\u001b[49m\u001b[43m,\u001b[49m\n\u001b[1;32m    544\u001b[0m \u001b[43m    \u001b[49m\u001b[43mforce_download\u001b[49m\u001b[38;5;241;43m=\u001b[39;49m\u001b[43mforce_download\u001b[49m\u001b[43m,\u001b[49m\n\u001b[1;32m    545\u001b[0m \u001b[43m    \u001b[49m\u001b[43mresume_download\u001b[49m\u001b[38;5;241;43m=\u001b[39;49m\u001b[43mresume_download\u001b[49m\u001b[43m,\u001b[49m\n\u001b[1;32m    546\u001b[0m \u001b[43m    \u001b[49m\u001b[43mproxies\u001b[49m\u001b[38;5;241;43m=\u001b[39;49m\u001b[43mproxies\u001b[49m\u001b[43m,\u001b[49m\n\u001b[1;32m    547\u001b[0m \u001b[43m    \u001b[49m\u001b[43mtoken\u001b[49m\u001b[38;5;241;43m=\u001b[39;49m\u001b[43mtoken\u001b[49m\u001b[43m,\u001b[49m\n\u001b[1;32m    548\u001b[0m \u001b[43m    \u001b[49m\u001b[43mrevision\u001b[49m\u001b[38;5;241;43m=\u001b[39;49m\u001b[43mcode_revision\u001b[49m\u001b[43m,\u001b[49m\n\u001b[1;32m    549\u001b[0m \u001b[43m    \u001b[49m\u001b[43mlocal_files_only\u001b[49m\u001b[38;5;241;43m=\u001b[39;49m\u001b[43mlocal_files_only\u001b[49m\u001b[43m,\u001b[49m\n\u001b[1;32m    550\u001b[0m \u001b[43m    \u001b[49m\u001b[43mrepo_type\u001b[49m\u001b[38;5;241;43m=\u001b[39;49m\u001b[43mrepo_type\u001b[49m\u001b[43m,\u001b[49m\n\u001b[1;32m    551\u001b[0m \u001b[43m\u001b[49m\u001b[43m)\u001b[49m\n\u001b[1;32m    552\u001b[0m \u001b[38;5;28;01mreturn\u001b[39;00m get_class_in_module(class_name, final_module, force_reload\u001b[38;5;241m=\u001b[39mforce_download)\n",
      "File \u001b[0;32m~/Code/relevant-xkcd-post/.venv/lib/python3.12/site-packages/transformers/dynamic_module_utils.py:365\u001b[0m, in \u001b[0;36mget_cached_module_file\u001b[0;34m(pretrained_model_name_or_path, module_file, cache_dir, force_download, resume_download, proxies, token, revision, local_files_only, repo_type, _commit_hash, **deprecated_kwargs)\u001b[0m\n\u001b[1;32m    362\u001b[0m     \u001b[38;5;28;01mraise\u001b[39;00m\n\u001b[1;32m    364\u001b[0m \u001b[38;5;66;03m# Check we have all the requirements in our environment\u001b[39;00m\n\u001b[0;32m--> 365\u001b[0m modules_needed \u001b[38;5;241m=\u001b[39m \u001b[43mcheck_imports\u001b[49m\u001b[43m(\u001b[49m\u001b[43mresolved_module_file\u001b[49m\u001b[43m)\u001b[49m\n\u001b[1;32m    367\u001b[0m \u001b[38;5;66;03m# Now we move the module inside our cached dynamic modules.\u001b[39;00m\n\u001b[1;32m    368\u001b[0m full_submodule \u001b[38;5;241m=\u001b[39m TRANSFORMERS_DYNAMIC_MODULE_NAME \u001b[38;5;241m+\u001b[39m os\u001b[38;5;241m.\u001b[39mpath\u001b[38;5;241m.\u001b[39msep \u001b[38;5;241m+\u001b[39m submodule\n",
      "File \u001b[0;32m~/Code/relevant-xkcd-post/.venv/lib/python3.12/site-packages/transformers/dynamic_module_utils.py:197\u001b[0m, in \u001b[0;36mcheck_imports\u001b[0;34m(filename)\u001b[0m\n\u001b[1;32m    194\u001b[0m             \u001b[38;5;28;01mraise\u001b[39;00m\n\u001b[1;32m    196\u001b[0m \u001b[38;5;28;01mif\u001b[39;00m \u001b[38;5;28mlen\u001b[39m(missing_packages) \u001b[38;5;241m>\u001b[39m \u001b[38;5;241m0\u001b[39m:\n\u001b[0;32m--> 197\u001b[0m     \u001b[38;5;28;01mraise\u001b[39;00m \u001b[38;5;167;01mImportError\u001b[39;00m(\n\u001b[1;32m    198\u001b[0m         \u001b[38;5;124m\"\u001b[39m\u001b[38;5;124mThis modeling file requires the following packages that were not found in your environment: \u001b[39m\u001b[38;5;124m\"\u001b[39m\n\u001b[1;32m    199\u001b[0m         \u001b[38;5;124mf\u001b[39m\u001b[38;5;124m\"\u001b[39m\u001b[38;5;132;01m{\u001b[39;00m\u001b[38;5;124m'\u001b[39m\u001b[38;5;124m, \u001b[39m\u001b[38;5;124m'\u001b[39m\u001b[38;5;241m.\u001b[39mjoin(missing_packages)\u001b[38;5;132;01m}\u001b[39;00m\u001b[38;5;124m. Run `pip install \u001b[39m\u001b[38;5;132;01m{\u001b[39;00m\u001b[38;5;124m'\u001b[39m\u001b[38;5;124m \u001b[39m\u001b[38;5;124m'\u001b[39m\u001b[38;5;241m.\u001b[39mjoin(missing_packages)\u001b[38;5;132;01m}\u001b[39;00m\u001b[38;5;124m`\u001b[39m\u001b[38;5;124m\"\u001b[39m\n\u001b[1;32m    200\u001b[0m     )\n\u001b[1;32m    202\u001b[0m \u001b[38;5;28;01mreturn\u001b[39;00m get_relative_imports(filename)\n",
      "\u001b[0;31mImportError\u001b[0m: This modeling file requires the following packages that were not found in your environment: einops. Run `pip install einops`"
     ]
    }
   ],
   "source": [
    "processor = AutoImageProcessor.from_pretrained(\"nomic-ai/nomic-embed-vision-v1.5\")\n",
    "vision_model = AutoModel.from_pretrained(\n",
    "    \"nomic-ai/nomic-embed-vision-v1.5\", trust_remote_code=True\n",
    ").to(device)\n",
    "\n",
    "\n",
    "def calculate_image_embeddings(image_paths: list[str]):\n",
    "    images = [Image.open(path) for path in image_paths]\n",
    "    inputs = processor(images, return_tensors=\"pt\")\n",
    "    # Move inputs to GPU\n",
    "    inputs = {k: v.to(device) for k, v in inputs.items()}\n",
    "\n",
    "    image_emb = vision_model(**inputs).last_hidden_state\n",
    "    return F.normalize(image_emb[:, 0], p=2, dim=1)\n",
    "\n",
    "\n",
    "tokenizer = AutoTokenizer.from_pretrained(\"nomic-ai/nomic-embed-text-v1.5\")\n",
    "text_model = AutoModel.from_pretrained(\n",
    "    \"nomic-ai/nomic-embed-text-v1.5\", trust_remote_code=True\n",
    ").to(device)\n",
    "text_model.eval()\n",
    "\n",
    "\n",
    "def calculate_text_embeddings(text_chunks: list[str]):\n",
    "    encoded_input = tokenizer(\n",
    "        text_chunks, padding=True, truncation=True, return_tensors=\"pt\"\n",
    "    )\n",
    "    # Move inputs to GPU\n",
    "    encoded_input = {k: v.to(device) for k, v in encoded_input.items()}\n",
    "\n",
    "    with torch.no_grad():\n",
    "        model_output = text_model(**encoded_input)\n",
    "\n",
    "    text_embeddings = mean_pooling(model_output, encoded_input[\"attention_mask\"])\n",
    "    text_embeddings = F.layer_norm(\n",
    "        text_embeddings, normalized_shape=(text_embeddings.shape[1],)\n",
    "    )\n",
    "    return F.normalize(text_embeddings, p=2, dim=1)\n",
    "\n",
    "\n",
    "def mean_pooling(model_output, attention_mask):\n",
    "    token_embeddings = model_output[0]\n",
    "    input_mask_expanded = (\n",
    "        attention_mask.unsqueeze(-1).expand(token_embeddings.size()).float()\n",
    "    )\n",
    "    return torch.sum(token_embeddings * input_mask_expanded, 1) / torch.clamp(\n",
    "        input_mask_expanded.sum(1), min=1e-9\n",
    "    )"
   ]
  },
  {
   "cell_type": "markdown",
   "id": "0be57a42-0b95-4fb1-a1d9-1dc01587f5d9",
   "metadata": {},
   "source": [
    "Test the embedding models are working"
   ]
  },
  {
   "cell_type": "code",
   "execution_count": 246,
   "id": "78723944-072a-43cd-a9b8-ca93bab14080",
   "metadata": {},
   "outputs": [
    {
     "data": {
      "text/plain": [
       "tensor([[0.0667],\n",
       "        [0.0367]], device='cuda:0', grad_fn=<MmBackward0>)"
      ]
     },
     "execution_count": 246,
     "metadata": {},
     "output_type": "execute_result"
    }
   ],
   "source": [
    "image_embeddings = calculate_image_embeddings(\n",
    "    [\"test-images/cats.jpg\", \"test-images/desert.jpg\"]\n",
    ")\n",
    "query_embedding = calculate_text_embeddings(\n",
    "    [\"search_query:an animal that’s nice to cuddle with\"]\n",
    ")\n",
    "\n",
    "image_embeddings @ query_embedding.T"
   ]
  },
  {
   "cell_type": "markdown",
   "id": "a0cf55b0-8746-4263-a5ec-9b03a7e8594c",
   "metadata": {},
   "source": [
    "Utility function to plot a square matrix of cosine similarities"
   ]
  },
  {
   "cell_type": "code",
   "execution_count": 289,
   "id": "4d610946-df2b-4ff0-8367-3f5b9656dc44",
   "metadata": {},
   "outputs": [],
   "source": [
    "def plot_similarity(\n",
    "    matrix, start_index=0, xlabel=\"Vector Index\", ylabel=\"Vector Index\"\n",
    "):\n",
    "    plt.clf()\n",
    "    plt.imshow(matrix, cmap=\"YlOrRd\")\n",
    "\n",
    "    plt.rcParams.update({\"font.size\": 14})\n",
    "\n",
    "    # Generate axis labels\n",
    "    size = len(matrix)\n",
    "    indices = [start_index + i for i in range(size)]\n",
    "\n",
    "    # Calculate appropriate tick spacing\n",
    "    tick_spacing = max(size // 5, 1)  # Show ~5 ticks, minimum of 1\n",
    "    tick_positions = range(0, size, tick_spacing)\n",
    "    tick_labels = [indices[i] for i in tick_positions]\n",
    "\n",
    "    plt.xticks(tick_positions, tick_labels)\n",
    "    plt.yticks(tick_positions, tick_labels)\n",
    "\n",
    "    # Add colorbar\n",
    "    plt.colorbar(label=\"Cosine Similarity Score\")\n",
    "\n",
    "    plt.title(\"Similarity Matrix\")\n",
    "    plt.xlabel(xlabel)\n",
    "    plt.ylabel(ylabel)\n",
    "\n",
    "    plt.tight_layout()"
   ]
  },
  {
   "cell_type": "markdown",
   "id": "be6e47bd-ee00-47c1-baca-963afd1bb4fc",
   "metadata": {},
   "source": [
    "Fetch Data of 'all' XKCDs including image URL and explanation text from explainxkcd.com and store in an in-memory duckdb database"
   ]
  },
  {
   "cell_type": "code",
   "execution_count": null,
   "id": "5ff16aab-dda6-443d-a428-fa1b56eeb4d6",
   "metadata": {},
   "outputs": [],
   "source": [
    "duckdb.sql(\n",
    "    \"create table xkcd as select * from \\\n",
    "        'https://huggingface.co/datasets/olivierdehaene/xkcd/resolve/refs%2Fconvert%2Fparquet/default/train/0000.parquet' \\\n",
    "        \"\n",
    ")"
   ]
  },
  {
   "cell_type": "markdown",
   "id": "2432d25f-4966-49ee-8715-21bcbdb7cc96",
   "metadata": {},
   "source": [
    "Pick 30 XKCDs to test and experiment with (starting at 1500 as the first few comics are atypical)"
   ]
  },
  {
   "cell_type": "code",
   "execution_count": 272,
   "id": "e5b5b3bf-71be-4055-b24d-adeb488c5333",
   "metadata": {},
   "outputs": [],
   "source": [
    "test_comics = duckdb.sql(\n",
    "    \"select id, image_url, explanation \\\n",
    "    from xkcd \\\n",
    "    limit 40 offset 1200;\"\n",
    ").pl()"
   ]
  },
  {
   "cell_type": "markdown",
   "id": "aecafec6-716e-4503-b7bb-0013c687df32",
   "metadata": {},
   "source": [
    "For each of the XKCDs to experiment with, store the image on disk so we can calculate an embedding"
   ]
  },
  {
   "cell_type": "code",
   "execution_count": 273,
   "id": "6ffad7f7-15c0-4880-94b7-636a96500fe3",
   "metadata": {},
   "outputs": [],
   "source": [
    "for comic in test_comics.to_dicts():\n",
    "    filename = f\"xkcd-images/{comic[\"id\"]}.jpg\"\n",
    "    if not os.path.isfile(filename):\n",
    "        urllib.request.urlretrieve(comic[\"image_url\"], filename)"
   ]
  },
  {
   "cell_type": "markdown",
   "id": "d434b6cd-925a-41de-94e2-d43f8df34f62",
   "metadata": {},
   "source": [
    "Calculate an embedding of the image using our utility function for each image"
   ]
  },
  {
   "cell_type": "code",
   "execution_count": 285,
   "id": "14f14da4-20c5-47c4-ba3d-0c4b8ef6645d",
   "metadata": {},
   "outputs": [],
   "source": [
    "test_comic_embeddings = calculate_image_embeddings(\n",
    "    [f\"xkcd-images/{xkcd_id}.jpg\" for xkcd_id in test_comics[\"id\"]]\n",
    ")"
   ]
  },
  {
   "cell_type": "markdown",
   "id": "b86f7d45-0718-498d-aa72-d1f203bc1482",
   "metadata": {},
   "source": [
    "Calculate an embedding of the explanation text (which include a transcript)"
   ]
  },
  {
   "cell_type": "code",
   "execution_count": 284,
   "id": "44c8f75a-636d-499e-836a-66eb9fafe0a3",
   "metadata": {},
   "outputs": [],
   "source": [
    "test_explanation_embeddings = calculate_text_embeddings(\n",
    "    [f\"search_document:{explanation}\" for explanation in test_comics[\"explanation\"]]\n",
    ")"
   ]
  },
  {
   "cell_type": "markdown",
   "id": "b2411ecd-58e3-4397-996d-b64efb881311",
   "metadata": {},
   "source": [
    "Calculate a dot product between each XCKDs image and description (which is cosine similarity score as they are unit norm)"
   ]
  },
  {
   "cell_type": "code",
   "execution_count": 297,
   "id": "1ac5267d-0eeb-4f5f-bad7-c660d45baba7",
   "metadata": {},
   "outputs": [
    {
     "data": {
      "image/png": "[encoded data removed]",
      "text/plain": [
       "<Figure size 640x480 with 2 Axes>"
      ]
     },
     "metadata": {},
     "output_type": "display_data"
    }
   ],
   "source": [
    "with torch.no_grad():\n",
    "    result = test_comic_embeddings @ test_explanation_embeddings.T\n",
    "    # move to cpu in case we used gpu to calculate embeddings\n",
    "    result = result.cpu()\n",
    "\n",
    "    plot_similarity(\n",
    "        result,\n",
    "        start_index=test_comics[\"id\"][0],\n",
    "        xlabel=\"XKCD Explanation Index\",\n",
    "        ylabel=\"XKCD Comic (Image) Index\",\n",
    "    )\n",
    "    # plt.savefig(\"matrix.png\", dpi=270)"
   ]
  },
  {
   "cell_type": "markdown",
   "id": "1611cde8-fb18-4c09-9113-ae23f0397af2",
   "metadata": {},
   "source": [
    "### Generating embeddings for all the comics\n",
    "\n",
    "We're going to want to persist the embeddings. I am attaching a separate duckdb database (from a file) so that I have the embeddings in the file. I can keep the xkcd table in memory as that is easy to download again and I don't want to bloat the size of my embedding db with the source text. Either work though."
   ]
  },
  {
   "cell_type": "code",
   "execution_count": null,
   "id": "8a8fa767-4400-4176-828f-0b2f12a97b0c",
   "metadata": {},
   "outputs": [],
   "source": [
    "duckdb.sql(\"ATTACH 'embeddings.db' as embed_db;\")\n",
    "# You don't need to use ATTACH like this, but this means I can have an in-memory table of the source data (xkcd table)\n",
    "# that won't persist and a table of vectors that I want to persist in a file at the same time."
   ]
  },
  {
   "cell_type": "markdown",
   "id": "4ad64358-e659-4bae-a417-265ea2ef9c82",
   "metadata": {},
   "source": [
    "Simple table that stores just the comic id and image and text vectors"
   ]
  },
  {
   "cell_type": "code",
   "execution_count": 280,
   "id": "f93a9b92-4ba0-4284-b730-04ce8d8c6d17",
   "metadata": {},
   "outputs": [],
   "source": [
    "duckdb.sql(\n",
    "    \"\"\"\n",
    "    CREATE TABLE IF NOT EXISTS embed_db.xkcd_vectors( \n",
    "        id INT PRIMARY KEY, \n",
    "        image_embedding FLOAT[768], \n",
    "        text_embedding FLOAT[768] \n",
    "    );\"\"\"\n",
    ")"
   ]
  },
  {
   "cell_type": "markdown",
   "id": "fce2d274-b205-471e-9b07-fda0ebf251a3",
   "metadata": {},
   "source": [
    "We will chunk the embedding process so we don't run out of memory.\n",
    "\n",
    "The loop is a fairly simple process:\n",
    "1. Find ids of comics we haven't already embedded.\n",
    "2. For those ids, check we have an image locally and download it (and sleep as a very crude rate limiter to be kind to XKCD's website).\n",
    "3. Calculate embeddings for all the images and all the embeddings in the chunk. This does multiple images at once so the embedding inference happend in parallel on the GPU.\n",
    "4. Store the embeddings into our duckdb database.\n",
    "\n",
    "The for loop could be a while true but I wanted to do 10 chunks and check the progress. The code is idempotent, so we can do 10 chunks, and it will start again where it left off last time."
   ]
  },
  {
   "cell_type": "code",
   "execution_count": 197,
   "id": "792dff68-d85d-46d4-84ce-7e1c42191347",
   "metadata": {},
   "outputs": [
    {
     "name": "stdout",
     "output_type": "stream",
     "text": [
      "No comics to embed.\n"
     ]
    }
   ],
   "source": [
    "count_fetched = 0\n",
    "chunk_size = 20  # 20 comics at a time\n",
    "\n",
    "for i in range(10):\n",
    "    comics_to_embed = duckdb.execute(\n",
    "        \"select id, image_url, explanation \\\n",
    "        from xkcd \\\n",
    "        where xkcd.id not in ( \\\n",
    "            select id from embed_db.xkcd_vectors \\\n",
    "        ) \\\n",
    "        and image_url is not null \\\n",
    "        and image_url != 'https://imgs.xkcd.com/comics/' \\\n",
    "        limit ?;\",\n",
    "        [chunk_size],\n",
    "    ).pl()\n",
    "\n",
    "    if len(comics_to_embed) == 0:\n",
    "        print(\"No comics to embed.\")\n",
    "        break\n",
    "\n",
    "    for comic in comics_to_embed.to_dicts():\n",
    "        filename = f\"xkcd-images/{comic[\"id\"]}.jpg\"\n",
    "        if not os.path.isfile(filename):\n",
    "            try:\n",
    "                urllib.request.urlretrieve(comic[\"image_url\"], filename)\n",
    "                # Crude rate limit for XKCD website - be nice\n",
    "                time.sleep(0.2)\n",
    "                count_fetched = count_fetched + 1\n",
    "            except TypeError:\n",
    "                print(comic[\"id\"], comic[\"image_url\"])\n",
    "\n",
    "    comic_embeddings = calculate_image_embeddings(\n",
    "        [f\"xkcd-images/{xkcd_id}.jpg\" for xkcd_id in comics_to_embed[\"id\"]]\n",
    "    )\n",
    "\n",
    "    explanation_embeddings = calculate_text_embeddings(\n",
    "        [f\"search_document:{text}\" for text in comics_to_embed[\"explanation\"]]\n",
    "    )\n",
    "\n",
    "    # Add 2 columns to the polars dataframe for the image and text embeddings\n",
    "    comics_to_embed = comics_to_embed.with_columns(\n",
    "        pl.Series(name=\"image_embedding\", values=comic_embeddings.cpu().tolist()),\n",
    "        pl.Series(name=\"text_embedding\", values=explanation_embeddings.cpu().tolist()),\n",
    "    )\n",
    "\n",
    "    # Use the duckdb Python integration, which can load data from a Polars dataframe\n",
    "    # referred to by a Python variable.\n",
    "    # This is MUCH faster than using executemany or a loop.\n",
    "    duckdb.execute(\n",
    "        \"insert into embed_db.xkcd_vectors from \\\n",
    "        (select id, image_embedding, text_embedding from comics_to_embed); \"\n",
    "    )\n",
    "    print(\n",
    "        f\"Inserted {len(comics_to_embed)} comics: {comics_to_embed[\"id\"].min()} to {comics_to_embed[\"id\"].max()}. \"\n",
    "        f\"Images fetched: {count_fetched}\"\n",
    "    )"
   ]
  },
  {
   "cell_type": "markdown",
   "id": "4d3c55fb-5c38-455a-a0ad-912eeebb98c4",
   "metadata": {},
   "source": [
    "### Query the embeddings: compare text description with query text"
   ]
  },
  {
   "cell_type": "markdown",
   "id": "a0ae50ad-f772-4bc7-bf65-2de68c66b823",
   "metadata": {},
   "source": [
    "Use the same helper function to calculate a query embedding."
   ]
  },
  {
   "cell_type": "markdown",
   "id": "c08d4bbf-f1fb-42e8-9170-c85d0cdaf542",
   "metadata": {},
   "source": [
    "Use the duckdb `array_cosine_similarity` to sort the database embeddings, take the top few."
   ]
  },
  {
   "cell_type": "code",
   "execution_count": 306,
   "id": "f6683886-c9ee-430b-b27e-a5ff0d61e44c",
   "metadata": {},
   "outputs": [
    {
     "data": {
      "text/html": [
       "<div><style>\n",
       ".dataframe > thead > tr,\n",
       ".dataframe > tbody > tr {\n",
       "  text-align: right;\n",
       "  white-space: pre-wrap;\n",
       "}\n",
       "</style>\n",
       "<small>shape: (3, 3)</small><table border=\"1\" class=\"dataframe\"><thead><tr><th>id</th><th>title</th><th>similarity</th></tr><tr><td>i64</td><td>str</td><td>f32</td></tr></thead><tbody><tr><td>927</td><td>&quot;Standards&quot;</td><td>0.701464</td></tr><tr><td>2116</td><td>&quot;.NORM&nbsp;Normal&nbsp;File&nbsp;Format&quot;</td><td>0.653827</td></tr><tr><td>2254</td><td>&quot;JPEG2000&quot;</td><td>0.644123</td></tr></tbody></table></div>"
      ],
      "text/plain": [
       "shape: (3, 3)\n",
       "┌──────┬──────────────────────────┬────────────┐\n",
       "│ id   ┆ title                    ┆ similarity │\n",
       "│ ---  ┆ ---                      ┆ ---        │\n",
       "│ i64  ┆ str                      ┆ f32        │\n",
       "╞══════╪══════════════════════════╪════════════╡\n",
       "│ 927  ┆ Standards                ┆ 0.701464   │\n",
       "│ 2116 ┆ .NORM Normal File Format ┆ 0.653827   │\n",
       "│ 2254 ┆ JPEG2000                 ┆ 0.644123   │\n",
       "└──────┴──────────────────────────┴────────────┘"
      ]
     },
     "execution_count": 306,
     "metadata": {},
     "output_type": "execute_result"
    }
   ],
   "source": [
    "query_string = (\n",
    "    \"search_query:there are lots of different competing vector databases \"\n",
    "    \"let's make one to become the standard\"\n",
    ")\n",
    "query_vector = calculate_text_embeddings([query_string]).tolist()[0]\n",
    "\n",
    "duckdb.execute(\n",
    "    \"select xkcd.id, xkcd.title, \\\n",
    "    array_cosine_similarity(text_embedding, ?::float[768]) as similarity \\\n",
    "    from embed_db.xkcd_vectors \\\n",
    "    join xkcd on xkcd.id = embed_db.xkcd_vectors.id \\\n",
    "    order by similarity desc \\\n",
    "    limit 3;\",\n",
    "    [query_vector],\n",
    ").pl()"
   ]
  },
  {
   "cell_type": "markdown",
   "id": "3aa95661-b063-461d-8ce2-af595dc5dce3",
   "metadata": {},
   "source": [
    "Another example"
   ]
  },
  {
   "cell_type": "code",
   "execution_count": 228,
   "id": "bf32cb02-c0b3-4d1f-81f7-a8a5f7f1ddc5",
   "metadata": {},
   "outputs": [
    {
     "data": {
      "text/html": [
       "<div><style>\n",
       ".dataframe > thead > tr,\n",
       ".dataframe > tbody > tr {\n",
       "  text-align: right;\n",
       "  white-space: pre-wrap;\n",
       "}\n",
       "</style>\n",
       "<small>shape: (3, 3)</small><table border=\"1\" class=\"dataframe\"><thead><tr><th>id</th><th>title</th><th>similarity</th></tr><tr><td>i64</td><td>str</td><td>f32</td></tr></thead><tbody><tr><td>1053</td><td>&quot;Ten&nbsp;Thousand&quot;</td><td>0.617261</td></tr><tr><td>1355</td><td>&quot;Airplane&nbsp;Message&quot;</td><td>0.601863</td></tr><tr><td>674</td><td>&quot;Natural&nbsp;Parenting&quot;</td><td>0.601047</td></tr></tbody></table></div>"
      ],
      "text/plain": [
       "shape: (3, 3)\n",
       "┌──────┬───────────────────┬────────────┐\n",
       "│ id   ┆ title             ┆ similarity │\n",
       "│ ---  ┆ ---               ┆ ---        │\n",
       "│ i64  ┆ str               ┆ f32        │\n",
       "╞══════╪═══════════════════╪════════════╡\n",
       "│ 1053 ┆ Ten Thousand      ┆ 0.617261   │\n",
       "│ 1355 ┆ Airplane Message  ┆ 0.601863   │\n",
       "│ 674  ┆ Natural Parenting ┆ 0.601047   │\n",
       "└──────┴───────────────────┴────────────┘"
      ]
     },
     "execution_count": 228,
     "metadata": {},
     "output_type": "execute_result"
    }
   ],
   "source": [
    "query_string = \"search_query:how have you never heard of this before?\"\n",
    "query_vector = calculate_text_embeddings([query_string]).tolist()[0]\n",
    "\n",
    "duckdb.execute(\n",
    "    \"select xkcd.id, xkcd.title, \\\n",
    "    array_cosine_similarity(text_embedding, ?::float[768]) as similarity \\\n",
    "    from embed_db.xkcd_vectors \\\n",
    "    join xkcd on xkcd.id = embed_db.xkcd_vectors.id \\\n",
    "    order by similarity desc \\\n",
    "    limit 3;\",\n",
    "    [query_vector],\n",
    ").pl()"
   ]
  },
  {
   "cell_type": "markdown",
   "id": "5eadc239-8903-458f-9bea-04d23016f86a",
   "metadata": {},
   "source": [
    "### Query the embeddings: compare xkcd image embeddings with query images"
   ]
  },
  {
   "cell_type": "markdown",
   "id": "72b3712a-8fe9-4957-a5fe-dfe09efee5c2",
   "metadata": {},
   "source": [
    "Use the image helper function to calculate a query vector for a local image "
   ]
  },
  {
   "cell_type": "code",
   "execution_count": 309,
   "id": "c3b85993-106c-4a70-9018-d882cff12bd1",
   "metadata": {},
   "outputs": [
    {
     "data": {
      "text/html": [
       "<div><style>\n",
       ".dataframe > thead > tr,\n",
       ".dataframe > tbody > tr {\n",
       "  text-align: right;\n",
       "  white-space: pre-wrap;\n",
       "}\n",
       "</style>\n",
       "<small>shape: (3, 3)</small><table border=\"1\" class=\"dataframe\"><thead><tr><th>id</th><th>title</th><th>similarity</th></tr><tr><td>i64</td><td>str</td><td>f32</td></tr></thead><tbody><tr><td>799</td><td>&quot;Stephen&nbsp;Hawking&quot;</td><td>0.910966</td></tr><tr><td>750</td><td>&quot;Book&nbsp;Burning&quot;</td><td>0.901851</td></tr><tr><td>997</td><td>&quot;Wait&nbsp;Wait&quot;</td><td>0.897447</td></tr></tbody></table></div>"
      ],
      "text/plain": [
       "shape: (3, 3)\n",
       "┌─────┬─────────────────┬────────────┐\n",
       "│ id  ┆ title           ┆ similarity │\n",
       "│ --- ┆ ---             ┆ ---        │\n",
       "│ i64 ┆ str             ┆ f32        │\n",
       "╞═════╪═════════════════╪════════════╡\n",
       "│ 799 ┆ Stephen Hawking ┆ 0.910966   │\n",
       "│ 750 ┆ Book Burning    ┆ 0.901851   │\n",
       "│ 997 ┆ Wait Wait       ┆ 0.897447   │\n",
       "└─────┴─────────────────┴────────────┘"
      ]
     },
     "execution_count": 309,
     "metadata": {},
     "output_type": "execute_result"
    }
   ],
   "source": [
    "query_image_embedding = calculate_image_embeddings(\n",
    "    [\"test-images/gromit-reading-the-paper.jpeg\"]\n",
    ").tolist()[0]\n",
    "\n",
    "duckdb.execute(\n",
    "    \"select xkcd.id, xkcd.title, \\\n",
    "    array_cosine_similarity(image_embedding, ?::float[768]) as similarity \\\n",
    "    from embed_db.xkcd_vectors \\\n",
    "    join xkcd on xkcd.id = embed_db.xkcd_vectors.id \\\n",
    "    order by similarity desc \\\n",
    "    limit 3;\",\n",
    "    [query_image_embedding],\n",
    ").pl()"
   ]
  },
  {
   "cell_type": "markdown",
   "id": "24763131-1c27-4ece-845d-ac9d877cdf3b",
   "metadata": {},
   "source": [
    "### Query the embeddings: compare xkcd images to query text embeddings"
   ]
  },
  {
   "cell_type": "code",
   "execution_count": 229,
   "id": "7c407e23-adbd-4625-bff4-f70f2475fcf1",
   "metadata": {},
   "outputs": [
    {
     "data": {
      "text/html": [
       "<div><style>\n",
       ".dataframe > thead > tr,\n",
       ".dataframe > tbody > tr {\n",
       "  text-align: right;\n",
       "  white-space: pre-wrap;\n",
       "}\n",
       "</style>\n",
       "<small>shape: (3, 3)</small><table border=\"1\" class=\"dataframe\"><thead><tr><th>id</th><th>title</th><th>similarity</th></tr><tr><td>i64</td><td>str</td><td>f32</td></tr></thead><tbody><tr><td>80</td><td>&quot;My&nbsp;Other&nbsp;Car&quot;</td><td>0.081244</td></tr><tr><td>37</td><td>&quot;Hyphen&quot;</td><td>0.08113</td></tr><tr><td>2064</td><td>&quot;I&#x27;m&nbsp;a&nbsp;Car&quot;</td><td>0.078028</td></tr></tbody></table></div>"
      ],
      "text/plain": [
       "shape: (3, 3)\n",
       "┌──────┬──────────────┬────────────┐\n",
       "│ id   ┆ title        ┆ similarity │\n",
       "│ ---  ┆ ---          ┆ ---        │\n",
       "│ i64  ┆ str          ┆ f32        │\n",
       "╞══════╪══════════════╪════════════╡\n",
       "│ 80   ┆ My Other Car ┆ 0.081244   │\n",
       "│ 37   ┆ Hyphen       ┆ 0.08113    │\n",
       "│ 2064 ┆ I'm a Car    ┆ 0.078028   │\n",
       "└──────┴──────────────┴────────────┘"
      ]
     },
     "execution_count": 229,
     "metadata": {},
     "output_type": "execute_result"
    }
   ],
   "source": [
    "query_string = \"search_query:car\"\n",
    "query_vector = calculate_text_embeddings([query_string]).tolist()[0]\n",
    "\n",
    "duckdb.execute(\n",
    "    \"select xkcd.id, xkcd.title, \\\n",
    "    (array_cosine_similarity(image_embedding, ?::float[768])) as similarity \\\n",
    "    from embed_db.xkcd_vectors \\\n",
    "    join xkcd on xkcd.id = embed_db.xkcd_vectors.id \\\n",
    "    order by similarity desc \\\n",
    "    limit 3;\",\n",
    "    [query_vector],\n",
    ").pl()"
   ]
  },
  {
   "cell_type": "markdown",
   "id": "b29ef75c-bf09-4fa6-b62c-997cae8b7243",
   "metadata": {},
   "source": [
    "### Query the embeddings: comparing query text to xkcd images and text at the same time"
   ]
  },
  {
   "cell_type": "code",
   "execution_count": 325,
   "id": "02d5fb6e-4b63-460e-952e-744a6eae326b",
   "metadata": {},
   "outputs": [
    {
     "name": "stdout",
     "output_type": "stream",
     "text": [
      "| id   | title                   | image_similarity | text_similarity | combined_similarity |\n",
      "|------|-------------------------|------------------|-----------------|---------------------|\n",
      "| 1949 | Fruit Collider          | 0.055841         | 0.663562        | 0.238157            |\n",
      "| 388  | Fuck Grapefruit         | 0.05881          | 0.622837        | 0.228018            |\n",
      "| 236  | Collecting Double-Takes | 0.041912         | 0.645767        | 0.223069            |\n"
     ]
    }
   ],
   "source": [
    "query_string = \"search_query:bananas\"\n",
    "query_vector = calculate_text_embeddings([query_string]).tolist()[0]\n",
    "\n",
    "result = duckdb.execute(\n",
    "    \"select xkcd.id, xkcd.title,  \\\n",
    "    (array_cosine_similarity(image_embedding, $vector::float[768])) as image_similarity, \\\n",
    "    (array_cosine_similarity(text_embedding, $vector::float[768])) as text_similarity, \\\n",
    "    (0.7 * image_similarity + 0.3 * text_similarity) as combined_similarity \\\n",
    "    from embed_db.xkcd_vectors \\\n",
    "    join xkcd on xkcd.id = embed_db.xkcd_vectors.id \\\n",
    "    order by combined_similarity desc \\\n",
    "    limit 3;\",\n",
    "    {\"vector\": query_vector},\n",
    ").pl()\n",
    "\n",
    "with pl.Config(\n",
    "    tbl_formatting=\"MARKDOWN\",\n",
    "    tbl_hide_column_data_types=True,\n",
    "    tbl_hide_dataframe_shape=True,\n",
    "):\n",
    "\n",
    "    print(result)"
   ]
  }
 ],
 "metadata": {
  "kernelspec": {
   "display_name": "Python 3 (ipykernel)",
   "language": "python",
   "name": "python3"
  },
  "language_info": {
   "codemirror_mode": {
    "name": "ipython",
    "version": 3
   },
   "file_extension": ".py",
   "mimetype": "text/x-python",
   "name": "python",
   "nbconvert_exporter": "python",
   "pygments_lexer": "ipython3",
   "version": "3.12.7"
  }
 },
 "nbformat": 4,
 "nbformat_minor": 5
}
